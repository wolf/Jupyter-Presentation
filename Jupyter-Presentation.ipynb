{
 "cells": [
  {
   "attachments": {
    "1274e5f5-246f-486b-a80e-20d850ea43a3.png": {
     "image/png": "[encoded data removed]"
    }
   },
   "cell_type": "markdown",
   "id": "65fdad97-a9a0-4a28-b1d7-fddfd41f7731",
   "metadata": {},
   "source": [
    "# What _is_ a Jupyter Notebook?\n",
    "A \"notebook\" interface is an interactive, live-programming, cell-based, interface to computation.  Think about Mathematica back in the day.  Code, data, tests, and documentation are presented in hunks called \"cells\" that can be individually executed, reordered, hidden, or shown.\n",
    "\n",
    "Jupyter is a specific implementation of the notebook concept that runs as a client-server pair where the notebook _interface_ is the client, and the language _kernel_ is the server.  There are many different kernels.  The most popular is Python, but your favorite language is almost certainly available.\n",
    "\n",
    "What you're looking at now is a notebook using a Python 3 kernel.  The kernel is shown in the upper right-hand corner of the notebook.\n",
    "\n",
    "![Which kernel are we using?](attachment:1274e5f5-246f-486b-a80e-20d850ea43a3.png)\n",
    "\n",
    "This is a cell.  Each gray box you see below is a separate cell.  This cell is specifically a Markdown cell.  If I \"execute\" it, it renders the Markdown as prose.  There are also code cells and raw cells.\n",
    "\n",
    "Using a particular kernel implies that code cells are to be interpreted as _that_ language."
   ]
  },
  {
   "cell_type": "code",
   "execution_count": null,
   "id": "89d6287e-689b-40e4-a9dd-f80b8ed03ef3",
   "metadata": {},
   "outputs": [
    {
     "name": "stdout",
     "output_type": "stream",
     "text": [
      "Hello, Wolf!  This output is printed outside of any cell.\n"
     ]
    }
   ],
   "source": [
    "# Here's a code cell containing Python\n",
    "#  That makes sense since this notebook is using a Python kernel\n",
    "\n",
    "person = \"Wolf\"\n",
    "print(f\"Hello, {person}!  This output is printed outside of any cell.\")\n",
    "\n",
    "# Command/Control-Enter runs the code in the cell\n",
    "# Shift-Enter runs the cell and activates the next cell"
   ]
  },
  {
   "cell_type": "markdown",
   "id": "086160bb-edbb-48a3-ac07-3a2aa25a2891",
   "metadata": {},
   "source": [
    "### Another Markdown cell\n",
    "Note the syntax-highlighting in the Python cell.  Let's try auto-complete.  I'll type a period after the `person` variable, then hit tab to engage auto-complete."
   ]
  },
  {
   "cell_type": "code",
   "execution_count": null,
   "id": "5aacac94-ceb2-41a2-a67e-9aa8aa6b08d3",
   "metadata": {},
   "outputs": [
    {
     "data": {
      "text/plain": [
       "'Wolf'"
      ]
     },
     "execution_count": null,
     "metadata": {},
     "output_type": "execute_result"
    }
   ],
   "source": [
    "person\n",
    "\n",
    "# Note that `person` was defined above in completely separate cell.  It was defined as a string, so\n",
    "#  Jupyter knows to auto-complete with the methods of string."
   ]
  },
  {
   "cell_type": "markdown",
   "id": "12f58d96-2ea9-46ef-98ca-5a3588926685",
   "metadata": {},
   "source": [
    "### Back to a cell again.  This is yet another Markdown cell.\n",
    "Note that output from the code cell above appears between the cells, not **in** them."
   ]
  },
  {
   "cell_type": "code",
   "execution_count": null,
   "id": "1db46a9e-8fa9-432b-b5f6-112521c4b099",
   "metadata": {},
   "outputs": [
    {
     "name": "stdout",
     "output_type": "stream",
     "text": [
      "3.10.5 (main, Jun 15 2022, 12:41:18) [Clang 13.1.6 (clang-1316.0.21.2.5)]\n"
     ]
    }
   ],
   "source": [
    "# What version of Python are we running?\n",
    "\n",
    "import sys\n",
    "print(sys.version)\n",
    "\n",
    "# again, note the output is not, itself, in a cell"
   ]
  },
  {
   "cell_type": "code",
   "execution_count": null,
   "id": "5f208f3a-20cc-452d-9986-df91995ea087",
   "metadata": {},
   "outputs": [
    {
     "data": {
      "application/javascript": [
       "console.log(\"Look!  I can mix-in JavaScript!\")\n"
      ],
      "text/plain": [
       "<IPython.core.display.Javascript object>"
      ]
     },
     "metadata": {},
     "output_type": "display_data"
    }
   ],
   "source": [
    "%%javascript\n",
    "console.log(\"Look!  I can mix-in JavaScript!\")"
   ]
  },
  {
   "cell_type": "code",
   "execution_count": null,
   "id": "c0b565cc-c3b5-4b4d-a071-39761e2fea9e",
   "metadata": {},
   "outputs": [
    {
     "name": "stdout",
     "output_type": "stream",
     "text": [
      "Here is some Bash!"
     ]
    }
   ],
   "source": [
    "%%bash\n",
    "printf \"Here is some Bash!\""
   ]
  },
  {
   "cell_type": "code",
   "execution_count": null,
   "id": "1b98c4fe-e45a-46a2-b7d0-c0d4112fc96d",
   "metadata": {},
   "outputs": [
    {
     "name": "stdout",
     "output_type": "stream",
     "text": [
      "1\n",
      "2\n",
      "3\n",
      "4\n",
      "5\n",
      "6\n",
      "7\n",
      "8\n",
      "9\n",
      "10\n"
     ]
    }
   ],
   "source": [
    "%%perl\n",
    "map { print \"$_\\n\" } ( 1 .. 10 )"
   ]
  },
  {
   "cell_type": "markdown",
   "id": "3f247e03-e6f4-421d-bc68-75bb8c7caae1",
   "metadata": {},
   "source": [
    "## What do I do with a Jupyter Notebook?\n",
    "The number one use of a Jupyter Notebook is exploratory programming.  There is so much you _can_ do with a notebook, but that's almost certainly where you'll start and what you'll return to again and again."
   ]
  },
  {
   "cell_type": "markdown",
   "id": "4cabeea2-0146-4037-a419-ea3509a6f107",
   "metadata": {},
   "source": [
    "# Where did they come from?  What is their history?"
   ]
  },
  {
   "cell_type": "markdown",
   "id": "64f046f8-6d25-43da-a9b9-98e28e2a8230",
   "metadata": {},
   "source": [
    "# How do you use one?  How does it work?"
   ]
  },
  {
   "cell_type": "markdown",
   "id": "54422f9a-3377-48c2-9cff-7e64ada8d320",
   "metadata": {},
   "source": [
    "## Pandas"
   ]
  },
  {
   "cell_type": "markdown",
   "id": "bffc00ee-fdc9-4358-a07b-00a7aa938408",
   "metadata": {},
   "source": [
    "## Inline documentation"
   ]
  },
  {
   "cell_type": "markdown",
   "id": "18a6af27-e6db-49df-b9c1-94dc1ea36d4f",
   "metadata": {},
   "source": [
    "## Tests"
   ]
  },
  {
   "cell_type": "markdown",
   "id": "d42d7435-b300-4f31-9131-8fe45d3420de",
   "metadata": {},
   "source": [
    "## Multiple languages"
   ]
  },
  {
   "cell_type": "markdown",
   "id": "c9ed684c-812d-4599-8963-0c2d9eea5379",
   "metadata": {},
   "source": [
    "## Exploration"
   ]
  },
  {
   "cell_type": "markdown",
   "id": "e12c372f-6721-4804-84db-45f557d64122",
   "metadata": {},
   "source": [
    "## Book creation"
   ]
  },
  {
   "cell_type": "markdown",
   "id": "b7c5375e-4596-404f-846f-0f900f1a8eb5",
   "metadata": {},
   "source": [
    "## GUIs"
   ]
  },
  {
   "cell_type": "markdown",
   "id": "616084cf-684e-4778-9e40-3f019a402b32",
   "metadata": {},
   "source": [
    "## Running from a remote server"
   ]
  },
  {
   "cell_type": "markdown",
   "id": "2c6a3803-b5a6-4a5e-9873-ff558a5ef8c5",
   "metadata": {},
   "source": [
    "# Problems and solutions"
   ]
  },
  {
   "cell_type": "markdown",
   "id": "cc70012c-fd61-4e64-a700-ede8f7960634",
   "metadata": {},
   "source": [
    "## Out-of-order execution"
   ]
  },
  {
   "cell_type": "markdown",
   "id": "e75973d8-ab0c-4af1-b873-dd09cc717c49",
   "metadata": {},
   "source": [
    "## Source-code control"
   ]
  },
  {
   "cell_type": "markdown",
   "id": "3eeec6e7-7ae5-4a21-b828-930c9f5df5c1",
   "metadata": {},
   "source": [
    "## Modularity"
   ]
  },
  {
   "cell_type": "markdown",
   "id": "a28b4050-3eb1-4ebc-90b1-825664903687",
   "metadata": {},
   "source": [
    "## Debugging"
   ]
  },
  {
   "cell_type": "markdown",
   "id": "cec6c745-ca1c-4b38-90b1-11e081a6e8e9",
   "metadata": {},
   "source": [
    "## Things that are better in an IDE or external editor"
   ]
  },
  {
   "cell_type": "markdown",
   "id": "7ae4b47f-5aa1-4e24-b924-f7705002d62a",
   "metadata": {},
   "source": [
    "## Reproducibility"
   ]
  },
  {
   "cell_type": "markdown",
   "id": "09e8ba08-2c17-4ec5-b8b3-69d4e738b5fe",
   "metadata": {},
   "source": [
    "# Where do you find them?  What are they used for?"
   ]
  },
  {
   "cell_type": "markdown",
   "id": "8e8a3d84-f75d-4889-b6bf-ce177542d353",
   "metadata": {},
   "source": [
    "## Static notebooks living on GitHub"
   ]
  },
  {
   "cell_type": "markdown",
   "id": "82671ad3-0488-4998-8a0d-a9b2574d1901",
   "metadata": {},
   "source": [
    "## Teaching notebooks as part of class syllabi"
   ]
  },
  {
   "cell_type": "markdown",
   "id": "a597b6b5-a6e7-4337-b18f-28c6e3d97e87",
   "metadata": {},
   "source": [
    "## Research notebooks as the product of experiments"
   ]
  },
  {
   "cell_type": "markdown",
   "id": "b2231015-2de4-45e3-9bd4-5b425b677909",
   "metadata": {},
   "source": [
    "## Books written using Jupyter as their source\n",
    "[Jupyter Book](https://jupyterbook.org/en/stable/intro.html)"
   ]
  },
  {
   "cell_type": "markdown",
   "id": "5a8453bf-0674-4d47-a9d3-403c89d1f378",
   "metadata": {},
   "source": [
    "## Report notebooks"
   ]
  },
  {
   "cell_type": "markdown",
   "id": "1ef03353-ab9b-4a01-adb4-905ee262e3fd",
   "metadata": {},
   "source": [
    "## Presentation notebooks\n",
    "[My `re` presentation](https://github.com/wolf/re-presentation/blob/main/%60re%60%20Presentation.ipynb)"
   ]
  },
  {
   "cell_type": "markdown",
   "id": "7fe097ab-b6d8-4820-b426-f7dc86736152",
   "metadata": {},
   "source": [
    "## Notebooks implementing full packages"
   ]
  },
  {
   "cell_type": "markdown",
   "id": "511c815a-d0a5-4ad1-9948-712d6d567f9a",
   "metadata": {},
   "source": [
    "## The possibilities really are limitless"
   ]
  },
  {
   "cell_type": "markdown",
   "id": "83acff72-3db3-4506-b058-22245ce40d7c",
   "metadata": {},
   "source": [
    "# How do you install it?"
   ]
  },
  {
   "cell_type": "markdown",
   "id": "66a0dafb-9db5-454b-ad2b-8a30904c8650",
   "metadata": {},
   "source": [
    "## Installing into a local virtual environment"
   ]
  },
  {
   "cell_type": "markdown",
   "id": "3682095b-307e-41ca-adf3-a085ce626115",
   "metadata": {},
   "source": [
    "## Installing globally (no demo)"
   ]
  },
  {
   "cell_type": "markdown",
   "id": "4d09be87-8481-4c1f-b71e-941ce554f0f0",
   "metadata": {},
   "source": [
    "## Installing with Anaconda (no demo)"
   ]
  },
  {
   "cell_type": "markdown",
   "id": "ce961cd6-0eba-4ba5-8743-684c36b81a19",
   "metadata": {},
   "source": [
    "## Installing with Docker"
   ]
  },
  {
   "cell_type": "markdown",
   "id": "fdf1b1bb-a4a3-4d24-a840-10ff24510283",
   "metadata": {},
   "source": [
    "## Installing additional kernels for other language"
   ]
  }
 ],
 "metadata": {
  "kernelspec": {
   "display_name": "Python 3 (ipykernel)",
   "language": "python",
   "name": "python3"
  }
 },
 "nbformat": 4,
 "nbformat_minor": 5
}
