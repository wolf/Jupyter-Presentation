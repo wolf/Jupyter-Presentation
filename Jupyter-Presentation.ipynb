{
 "cells": [
  {
   "cell_type": "markdown",
   "id": "4caaf228-a800-4b4d-81c6-5a505154d09a",
   "metadata": {
    "pycharm": {
     "name": "#%% md\n"
    },
    "slideshow": {
     "slide_type": "slide"
    },
    "tags": []
   },
   "source": [
    "# Who I am\n",
    "My name is Wolf.  I'm a long-time software engineer.  I'm curious.  I'm passionate about the things I find useful.  In my day-job, I write software that helps teach kids to read.  In my spare time I use my favorite tools like Vim, tmux, Jupyter, sqlite, and lots of other things I really like.  I don't use Jupyter Notebooks in my professional career, but they're fun to play with.  I don't know a lot, but I can show you a few interesting things to get you excited about them.\n",
    "\n",
    "I'm running this on my M1 Mac mini using Orion as my browser.  You can run Jupyter on any platform."
   ]
  },
  {
   "cell_type": "markdown",
   "id": "ec0ac768",
   "metadata": {
    "incorrectly_encoded_metadata": "jp-MarkdownHeadingCollapsed=true",
    "pycharm": {
     "name": "#%% md\n"
    },
    "slideshow": {
     "slide_type": "slide"
    },
    "tags": []
   },
   "source": [
    "# What this presentation is\n",
    "It's a demonstration of the big features and issues with [Jupyter](https://jupyter.org/).  It's enough to get you started and investigating on your own.  There's a lot to talk about so I won't be able to dive deep on any one thing.  Feel free to ask questions as I speak.\n",
    "\n",
    "I will give this notebook and an HTML version of it to Craig so he can put it on the MUG website.  And I'll create a GitHub project with this presentation, including all outputs."
   ]
  },
  {
   "cell_type": "markdown",
   "id": "84b266d3",
   "metadata": {
    "pycharm": {
     "name": "#%% md\n"
    },
    "slideshow": {
     "slide_type": "slide"
    },
    "tags": []
   },
   "source": [
    "# What this presentation is **not**\n",
    "This is not a data-science lecture.  I'm a software engineer, not a data-scientist.  As such, I don't know _all_ the ins and outs of the data-science features of Jupyter.  I'm more student than expert, but I can get you moving on your notebook adventure.  This isn't a programming how-to.  This isn't SQL training.  Etc.,  I'll touch on these subjects so you know where to look for more."
   ]
  },
  {
   "cell_type": "markdown",
   "id": "e65673e8-1030-41d4-b39e-22617d9ea8d7",
   "metadata": {
    "pycharm": {
     "name": "#%% md\n"
    },
    "slideshow": {
     "slide_type": "slide"
    },
    "tags": []
   },
   "source": [
    "# What I'm going to talk about\n",
    "* What a Jupyter notebook _is_\n",
    "* Cells are code, Markdown, or raw\n",
    "    * Code cells can be executed\n",
    "    * Magics\n",
    "* `pandas` and `matplotlib`\n",
    "* `nbconvert`\n",
    "* Building GUIs with `ipywidgets`\n",
    "* `jupytext`\n",
    "* `nbviewer`\n",
    "* SQL\n",
    "* `nbdev`\n",
    "* How to install and run Jupyter"
   ]
  },
  {
   "cell_type": "markdown",
   "id": "0c001472",
   "metadata": {
    "pycharm": {
     "name": "#%% md\n"
    },
    "slideshow": {
     "slide_type": "slide"
    },
    "tags": []
   },
   "source": [
    "# What _is_ a Jupyter Notebook?\n",
    "A \"notebook\" interface is an interactive, live-programming, cell-based, interface to computation.\n",
    "\n",
    "Think about Mathematica back in the day.  Code, data, tests, and documentation are presented in hunks called \"cells\" that can be individually executed, reordered, and typed (code, markdown, or just raw, uninterpreted data)."
   ]
  },
  {
   "cell_type": "markdown",
   "id": "e786c69e-5f36-4534-9288-92284bb78902",
   "metadata": {
    "slideshow": {
     "slide_type": "slide"
    },
    "tags": []
   },
   "source": [
    "## Why should I care\n",
    "Jupyter makes it easy to _play_ with your code in an interactive environment.  Run just small pieces of it.  Make a change, run it again.  Use the source-level debugger.  Plot output with graphing packages, and add UI with ready-made widgets.\n",
    "\n",
    "If you're working with data, the same applies to _it_.  Play with your data.  Run some computations on it, or on just a fraction of it.  Change some parameters.  Run it again.  Rich interaction with your data and ready access to a data-scientist's toolkit for analysis.\n",
    "\n",
    "But most of all, Jupyter is just plain _fun_.  It will bring back a little of the joy of programming to your work."
   ]
  },
  {
   "cell_type": "markdown",
   "id": "177fded0",
   "metadata": {
    "pycharm": {
     "name": "#%% md\n"
    },
    "slideshow": {
     "slide_type": "slide"
    },
    "tags": []
   },
   "source": [
    "## What is the difference between Jupyter Lab and Jupyter Notebooks?\n",
    "\"Classic\" Jupyter Notebooks is the original notebook interface.  This is slowly being replaced by the more capable and complete Jupyter _Lab_.  Jupyter Lab has tabs, debugging, shows multiple documents and more.  Development continues on Jupyter Lab.  We still call the thing we see within Jupyter Lab \"a notebook\".  It still has the same format and extension it has always had: json and `\".ipynb\"`, respectively.\n",
    "\n",
    "I'm using Jupyter Lab in this presentation."
   ]
  },
  {
   "cell_type": "markdown",
   "id": "76ade748",
   "metadata": {
    "pycharm": {
     "name": "#%% md\n"
    },
    "slideshow": {
     "slide_type": "slide"
    },
    "tags": []
   },
   "source": [
    "## Where did they come from?  What is their history?\n",
    "Jupyter was inspired by Sage, which was inspired by Mathematica.  Jupyter is built on top of IPython, but has grown to be so much more.  Jupyter began its life around 2014."
   ]
  },
  {
   "cell_type": "markdown",
   "id": "246eba24",
   "metadata": {
    "pycharm": {
     "name": "#%% md\n"
    },
    "slideshow": {
     "slide_type": "slide"
    },
    "tags": []
   },
   "source": [
    "## The relationship between Jupyter and IPython\n",
    "Jupyter is built on IPython, and when you're using Python as your language, IPython is your kernel.  Special IPython settings that you make in startup files apply to your notebook as well.  IPython is the terminal interface.  Jupyter is the GUI interface."
   ]
  },
  {
   "cell_type": "markdown",
   "id": "f7f68300",
   "metadata": {
    "pycharm": {
     "name": "#%% md\n"
    },
    "slideshow": {
     "slide_type": "slide"
    },
    "tags": []
   },
   "source": [
    "## What are you looking at right now\n",
    "Jupyter is a specific implementation of the notebook concept that runs as a client-server pair where the notebook _interface_ is the client, and the language _kernel_ is the server.  There are many different kernels.  The most popular is Python, but your favorite language is almost certainly available.  In Mathematica days, there was only the Mathematica language.  Now you can have anything.\n",
    "\n",
    "What you're looking at now is a notebook using a Python 3 kernel.  The kernel is shown in the upper right-hand corner of the notebook.  Or else you're looking at a slideshow I generated from a notebook and we'll go right back to the notebook in a minute."
   ]
  },
  {
   "cell_type": "markdown",
   "id": "cafed745-9cf7-4d3b-a5ee-2954201dc5e7",
   "metadata": {
    "pycharm": {
     "name": "#%% md\n"
    },
    "slideshow": {
     "slide_type": "skip"
    },
    "tags": []
   },
   "source": [
    "## Before I start...\n",
    "I'll use Shift-Command-C to activate the Command Palette and clear all the outputs."
   ]
  },
  {
   "cell_type": "markdown",
   "id": "ca7a679d-25f0-4612-a153-bc8dbf1bea7d",
   "metadata": {
    "pycharm": {
     "name": "#%% md\n"
    },
    "slideshow": {
     "slide_type": "slide"
    },
    "tags": []
   },
   "source": [
    "### Cells"
   ]
  },
  {
   "cell_type": "markdown",
   "id": "4c686b4d-90d5-44c9-99f8-7eb57d516866",
   "metadata": {
    "pycharm": {
     "name": "#%% md\n"
    },
    "slideshow": {
     "slide_type": "skip"
    },
    "tags": []
   },
   "source": [
    "This is a cell.  Each gray box you see below is a separate cell.  This cell is specifically a Markdown cell.  If I \"execute\" it, it renders the Markdown as prose.  There are also code cells and raw cells."
   ]
  },
  {
   "cell_type": "markdown",
   "id": "629026ab-14e1-470b-9f6b-82700b865169",
   "metadata": {
    "pycharm": {
     "name": "#%% md\n"
    },
    "slideshow": {
     "slide_type": "slide"
    },
    "tags": []
   },
   "source": [
    "Using a particular kernel implies that code cells are to be interpreted as _that_ language.  Each notebook uses exactly one kernel.  So not including _magic_, the entire notebook is in that one language.  "
   ]
  },
  {
   "cell_type": "markdown",
   "id": "1df64a34-5cf5-467c-9465-f14442bbf6a5",
   "metadata": {
    "pycharm": {
     "name": "#%% md\n"
    },
    "slideshow": {
     "slide_type": "slide"
    },
    "tags": []
   },
   "source": [
    "Markdown is a lightweight markup langage.  Here are some examples of how you markup text and what the rendered result looks like.  **Bold** insided double asterisks.  ~Strikethrough~ between tildes.  _Italic_ between underlines.  There are special markers for `code`, and blocks of code, and quotes, and links."
   ]
  },
  {
   "cell_type": "markdown",
   "id": "130e09b6-fb8a-4466-b416-160bc590238b",
   "metadata": {
    "pycharm": {
     "name": "#%% md\n"
    },
    "slideshow": {
     "slide_type": "slide"
    },
    "tags": []
   },
   "source": [
    "You can tell what's in a cell by the drop-down menu in the toolbar.  Also, code-cells have square brackets next to them that get filled in with the execution order.  Markdown cells do not."
   ]
  },
  {
   "cell_type": "markdown",
   "id": "068fb5e3-2ca2-49c3-b022-56c312372967",
   "metadata": {
    "pycharm": {
     "name": "#%% md\n"
    },
    "slideshow": {
     "slide_type": "slide"
    },
    "tags": []
   },
   "source": [
    "You can execute a cell using the 'play' button above.  I will be hitting Shift-Enter, a short-cut for execute and move to the next cell."
   ]
  },
  {
   "cell_type": "code",
   "execution_count": null,
   "id": "9fd4b421",
   "metadata": {
    "pycharm": {
     "name": "#%%\n"
    },
    "slideshow": {
     "slide_type": "slide"
    },
    "tags": []
   },
   "outputs": [],
   "source": [
    "2 + 2  # code-cells do calculations"
   ]
  },
  {
   "cell_type": "code",
   "execution_count": null,
   "id": "cce6bb37",
   "metadata": {
    "pycharm": {
     "name": "#%%\n"
    },
    "slideshow": {
     "slide_type": "slide"
    },
    "tags": []
   },
   "outputs": [],
   "source": [
    "# Note that when cells have a result, that result is printed in an\n",
    "# _output cell_.  The result of this cell is just the expression\n",
    "# that ends the cell\n",
    "\n",
    "\"Hello, World!\""
   ]
  },
  {
   "cell_type": "code",
   "execution_count": null,
   "id": "b96dd8a9",
   "metadata": {
    "pycharm": {
     "name": "#%%\n"
    },
    "slideshow": {
     "slide_type": "slide"
    },
    "tags": []
   },
   "outputs": [],
   "source": [
    "# Here's a code cell containing Python\n",
    "#  That makes sense since this notebook is using a Python kernel\n",
    "#  Python is the native language of Jupyter notebooks\n",
    "\n",
    "person: str = \"Wolf\"\n",
    "print(f\"Hello, {person}!  This output is not the _result_ of the cell, so it is printed outside of any cell.\")\n",
    "\n",
    "# The two cells above, 2 + 2 and \"Hello, World!\" worked because\n",
    "# they were valid Python"
   ]
  },
  {
   "cell_type": "markdown",
   "id": "ea0f8817",
   "metadata": {
    "pycharm": {
     "name": "#%% md\n"
    },
    "slideshow": {
     "slide_type": "skip"
    },
    "tags": []
   },
   "source": [
    "#### Another Markdown cell\n",
    "Note the syntax-highlighting in the Python cell.  Let's try auto-complete.  I'll type a period after the `person` variable, then hit tab to engage auto-complete.  This requires that some cell **defining** `person` has been run."
   ]
  },
  {
   "cell_type": "code",
   "execution_count": null,
   "id": "3283944b",
   "metadata": {
    "pycharm": {
     "name": "#%%\n"
    },
    "slideshow": {
     "slide_type": "skip"
    },
    "tags": []
   },
   "outputs": [],
   "source": [
    "# person.lower().count('w')\n",
    "person\n",
    "\n",
    "# Note that `person` was defined above in completely separate cell.\n",
    "# It's a string, so Jupyter knows to auto-complete with the methods\n",
    "# of string."
   ]
  },
  {
   "cell_type": "markdown",
   "id": "8208c3f3",
   "metadata": {
    "pycharm": {
     "name": "#%% md\n"
    },
    "slideshow": {
     "slide_type": "slide"
    },
    "tags": []
   },
   "source": [
    "#### Back to a cell again.  This is yet another Markdown cell.\n",
    "Note that `stdout` (and also `stderr`) from the code cell above appears between the cells, not **in** them.  Results appear in result cells.  Output appears between cells."
   ]
  },
  {
   "cell_type": "code",
   "execution_count": null,
   "id": "a49f958f",
   "metadata": {
    "pycharm": {
     "name": "#%%\n"
    },
    "slideshow": {
     "slide_type": "subslide"
    },
    "tags": []
   },
   "outputs": [],
   "source": [
    "# What version of Python are we running?\n",
    "\n",
    "import sys\n",
    "print(sys.version)\n",
    "\n",
    "# again, note that printed output is not, itself, in a cell"
   ]
  },
  {
   "cell_type": "markdown",
   "id": "20d84506",
   "metadata": {
    "pycharm": {
     "name": "#%% md\n"
    },
    "slideshow": {
     "slide_type": "slide"
    },
    "tags": []
   },
   "source": [
    "### Magics\n",
    "`'%'` or `'%%'` in a code cell means _magic_.  A magic command means something special to Jupyter.  There are many magics.  A double-% means it's a \"cell-magic\", that is, it applies to the entire cell.  A single-% is a \"line-magic\".  Here are some cell-magics that let you use alternative languages (with many limitations)."
   ]
  },
  {
   "cell_type": "code",
   "execution_count": null,
   "id": "3a3b0f77",
   "metadata": {
    "pycharm": {
     "name": "#%%\n"
    },
    "slideshow": {
     "slide_type": "subslide"
    },
    "tags": []
   },
   "outputs": [],
   "source": [
    "%%javascript\n",
    "\n",
    "// before running: open the console; make it big;\n",
    "// and show only \"Logs\"\n",
    "\n",
    "console.log(\"Look!  I can mix-in JavaScript!\")"
   ]
  },
  {
   "cell_type": "code",
   "execution_count": null,
   "id": "d409340a",
   "metadata": {
    "pycharm": {
     "name": "#%%\n"
    },
    "slideshow": {
     "slide_type": "subslide"
    },
    "tags": []
   },
   "outputs": [],
   "source": [
    "%%bash\n",
    "MY_VARIABLE='Bash'\n",
    "echo \"Here is some ${MY_VARIABLE}!\""
   ]
  },
  {
   "cell_type": "code",
   "execution_count": null,
   "id": "7843b520",
   "metadata": {
    "pycharm": {
     "name": "#%%\n"
    },
    "slideshow": {
     "slide_type": "subslide"
    },
    "tags": []
   },
   "outputs": [],
   "source": [
    "%%bash\n",
    "\n",
    "# Note a limitation of language magics is that each\n",
    "# cell stands alone.  If we were using a Bash kernel\n",
    "# this would not be a problem.\n",
    "\n",
    "echo ${MY_VARIABLE}"
   ]
  },
  {
   "cell_type": "code",
   "execution_count": null,
   "id": "27c6da50",
   "metadata": {
    "pycharm": {
     "name": "#%%\n"
    },
    "slideshow": {
     "slide_type": "subslide"
    },
    "tags": []
   },
   "outputs": [],
   "source": [
    "%%perl\n",
    "map { print \"$_\\n\" } ( 1 .. 10 )"
   ]
  },
  {
   "cell_type": "markdown",
   "id": "dba28f36-34aa-45e8-9082-8e78309b5e3d",
   "metadata": {},
   "source": [
    "Since we're playing around, let's try to exactly reproduce the output of the Perl fragment with some Python.  First using a `for` loop."
   ]
  },
  {
   "cell_type": "code",
   "execution_count": null,
   "id": "375212f3-248f-42ff-8798-72ecdd9e37a6",
   "metadata": {
    "slideshow": {
     "slide_type": "subslide"
    },
    "tags": []
   },
   "outputs": [],
   "source": [
    "for i in range(1, 11): print(i)"
   ]
  },
  {
   "cell_type": "markdown",
   "id": "53fe1a5f-0972-415a-98a7-c14042365da1",
   "metadata": {},
   "source": [
    "Next using `map`."
   ]
  },
  {
   "cell_type": "code",
   "execution_count": null,
   "id": "fd8ceb48-b5d6-4cbe-8258-e88fb90e9a54",
   "metadata": {
    "slideshow": {
     "slide_type": "subslide"
    },
    "tags": []
   },
   "outputs": [],
   "source": [
    "_ = list(map(print, range(1, 11)))"
   ]
  },
  {
   "cell_type": "markdown",
   "id": "f0d5f00a-7ace-44d4-b489-9dc51fae2025",
   "metadata": {},
   "source": [
    "And finally with a list comprehension."
   ]
  },
  {
   "cell_type": "code",
   "execution_count": null,
   "id": "5b849a33-1f1f-4848-903f-f1c1cb5f70f0",
   "metadata": {
    "slideshow": {
     "slide_type": "subslide"
    },
    "tags": []
   },
   "outputs": [],
   "source": [
    "_ = [print(i) for i in range(1, 11)]"
   ]
  },
  {
   "cell_type": "markdown",
   "id": "0ba0ab94-b3ab-4581-a2d0-9d6b54da8898",
   "metadata": {},
   "source": [
    "And let's ask Python how `map` works."
   ]
  },
  {
   "cell_type": "code",
   "execution_count": null,
   "id": "1c210ae6-ff97-4828-81f7-56e3ede00d80",
   "metadata": {
    "slideshow": {
     "slide_type": "slide"
    },
    "tags": []
   },
   "outputs": [],
   "source": [
    "help(map)"
   ]
  },
  {
   "cell_type": "markdown",
   "id": "89dc32ae",
   "metadata": {
    "pycharm": {
     "name": "#%% md\n"
    },
    "slideshow": {
     "slide_type": "slide"
    },
    "tags": []
   },
   "source": [
    "Here is a [full list of magics](https://ipython.readthedocs.io/en/stable/interactive/magics.html) but you can also see them with a bit of documentation by actually using the magics `%magic` and `%quickref`.  Note that magics are implemented by the underlying kernel, so they will be different for different kernels."
   ]
  },
  {
   "cell_type": "code",
   "execution_count": null,
   "id": "071a6704",
   "metadata": {
    "pycharm": {
     "name": "#%%\n"
    },
    "slideshow": {
     "slide_type": "fragment"
    },
    "tags": []
   },
   "outputs": [],
   "source": [
    "%quickref"
   ]
  },
  {
   "cell_type": "markdown",
   "id": "24053555",
   "metadata": {
    "pycharm": {
     "name": "#%% md\n"
    },
    "slideshow": {
     "slide_type": "slide"
    },
    "tags": []
   },
   "source": [
    "# `pandas` and `matplotlib`\n",
    "These are table-stakes for data-science professionals."
   ]
  },
  {
   "cell_type": "code",
   "execution_count": null,
   "id": "63f9d1b0",
   "metadata": {
    "pycharm": {
     "name": "#%%\n"
    },
    "slideshow": {
     "slide_type": "subslide"
    },
    "tags": []
   },
   "outputs": [],
   "source": [
    "import pandas\n",
    "\n",
    "# Let's make up some random data from scratch (deprecated).\n",
    "# It's the easiest way to get some fake data.\n",
    "\n",
    "# Dataframes and Series are the main datatypes of Pandas.\n",
    "# Dataframes are 2-dimensional.  Series 1-dimensional.\n",
    "# (If you need more dimensions, use `xarray`.)\n",
    "\n",
    "dataframe = pandas.util.testing.makeDataFrame()\n",
    "dataframe  # Note: printing the cell's _result_\n",
    "\n",
    "# Note where stderr went..."
   ]
  },
  {
   "cell_type": "code",
   "execution_count": null,
   "id": "92f4e7ae",
   "metadata": {
    "pycharm": {
     "name": "#%%\n"
    },
    "slideshow": {
     "slide_type": "subslide"
    },
    "tags": []
   },
   "outputs": [],
   "source": [
    "# Show the first seven rows of the dataframe (default is five)\n",
    "\n",
    "dataframe.head(n=7)"
   ]
  },
  {
   "cell_type": "code",
   "execution_count": null,
   "id": "839fcc64",
   "metadata": {
    "pycharm": {
     "name": "#%%\n"
    },
    "slideshow": {
     "slide_type": "subslide"
    },
    "tags": []
   },
   "outputs": [],
   "source": [
    "# Show all 30 rows, sorted by the values in column 'C'\n",
    "\n",
    "with pandas.option_context('display.max_rows', 30):\n",
    "    display(dataframe.sort_values(by='C'))"
   ]
  },
  {
   "cell_type": "code",
   "execution_count": null,
   "id": "7f72b8f0",
   "metadata": {
    "pycharm": {
     "name": "#%%\n"
    },
    "slideshow": {
     "slide_type": "subslide"
    },
    "tags": []
   },
   "outputs": [],
   "source": [
    "# Extract a single column\n",
    "\n",
    "display(dataframe['B'])"
   ]
  },
  {
   "cell_type": "code",
   "execution_count": null,
   "id": "95e87acf",
   "metadata": {
    "pycharm": {
     "name": "#%%\n"
    },
    "slideshow": {
     "slide_type": "subslide"
    },
    "tags": []
   },
   "outputs": [],
   "source": [
    "# Get the sum of that column\n",
    "\n",
    "sum(dataframe['B'])"
   ]
  },
  {
   "cell_type": "code",
   "execution_count": null,
   "id": "19cfcded",
   "metadata": {
    "pycharm": {
     "name": "#%%\n"
    },
    "slideshow": {
     "slide_type": "subslide"
    },
    "tags": []
   },
   "outputs": [],
   "source": [
    "%matplotlib inline\n",
    "import matplotlib.pyplot as plt\n",
    "\n",
    "# Of course I'm plotting nonsense here...\n",
    "\n",
    "plt.rcParams['figure.figsize'] = [20, 8]  # Make the graph big\n",
    "\n",
    "dataframe.plot.bar()"
   ]
  },
  {
   "cell_type": "markdown",
   "id": "a6b71241",
   "metadata": {
    "pycharm": {
     "name": "#%% md\n"
    },
    "slideshow": {
     "slide_type": "fragment"
    },
    "tags": []
   },
   "source": [
    "All kinds of other plots are available and there are additional charting packages as well.  Here is a scatter plot and a line plot.  Every kind of chart you could want is available through `matplotlib` or others."
   ]
  },
  {
   "cell_type": "code",
   "execution_count": null,
   "id": "bf660450",
   "metadata": {
    "pycharm": {
     "name": "#%%\n"
    },
    "slideshow": {
     "slide_type": "subslide"
    },
    "tags": []
   },
   "outputs": [],
   "source": [
    "plt.rcParams['figure.figsize'] = [20, 8]  # Make the graph big\n",
    "\n",
    "plt.scatter(dataframe['B'], dataframe['D'])"
   ]
  },
  {
   "cell_type": "code",
   "execution_count": null,
   "id": "0fb2cf59",
   "metadata": {
    "pycharm": {
     "name": "#%%\n"
    },
    "slideshow": {
     "slide_type": "subslide"
    },
    "tags": []
   },
   "outputs": [],
   "source": [
    "plt.rcParams['figure.figsize'] = [20, 8]  # Make the graph big\n",
    "\n",
    "# This is nonsense upon nonsense...\n",
    "\n",
    "dataframe.plot(x='A', y='C')"
   ]
  },
  {
   "cell_type": "markdown",
   "id": "1130c969-cd8b-47df-a920-380023d803d7",
   "metadata": {
    "pycharm": {
     "name": "#%% md\n"
    },
    "slideshow": {
     "slide_type": "slide"
    },
    "tags": []
   },
   "source": [
    "I have more to say about Pandas (it's super powerful) below.  One thing I'm not going to show is that Pandas can reach out, read a web-page, find a data table on that web-page, and read the table into a dataframe."
   ]
  },
  {
   "cell_type": "markdown",
   "id": "371497da",
   "metadata": {
    "pycharm": {
     "name": "#%% md\n"
    },
    "slideshow": {
     "slide_type": "slide"
    },
    "tags": []
   },
   "source": [
    "# `nbconvert`\n",
    "Note that `nb` in this context usually stands for \"notebook\"."
   ]
  },
  {
   "cell_type": "markdown",
   "id": "5202708f",
   "metadata": {
    "pycharm": {
     "name": "#%% md\n"
    },
    "slideshow": {
     "slide_type": "fragment"
    },
    "tags": []
   },
   "source": [
    "Converting Notebooks into other things using `jupyter nbconvert <notebook> --to <format>`"
   ]
  },
  {
   "cell_type": "markdown",
   "id": "7b7b45ec",
   "metadata": {
    "pycharm": {
     "name": "#%% md\n"
    },
    "slideshow": {
     "slide_type": "slide"
    },
    "tags": []
   },
   "source": [
    "## To slides"
   ]
  },
  {
   "cell_type": "code",
   "execution_count": null,
   "id": "ba95fb2c",
   "metadata": {
    "pycharm": {
     "name": "#%%\n"
    },
    "slideshow": {
     "slide_type": "fragment"
    },
    "tags": []
   },
   "outputs": [],
   "source": [
    "%%bash\n",
    "# Show the metadata that directs slide creation\n",
    "\n",
    "jupyter nbconvert Jupyter-Presentation.ipynb --to slides"
   ]
  },
  {
   "cell_type": "markdown",
   "id": "14aea5d0",
   "metadata": {
    "pycharm": {
     "name": "#%% md\n"
    },
    "slideshow": {
     "slide_type": "fragment"
    },
    "tags": []
   },
   "source": [
    "Let's take a look at the result"
   ]
  },
  {
   "cell_type": "markdown",
   "id": "b80fbbed",
   "metadata": {
    "pycharm": {
     "name": "#%% md\n"
    },
    "slideshow": {
     "slide_type": "slide"
    },
    "tags": []
   },
   "source": [
    "## To HTML"
   ]
  },
  {
   "cell_type": "code",
   "execution_count": null,
   "id": "152457e5",
   "metadata": {
    "pycharm": {
     "name": "#%%\n"
    },
    "slideshow": {
     "slide_type": "fragment"
    },
    "tags": []
   },
   "outputs": [],
   "source": [
    "%%bash\n",
    "jupyter nbconvert Jupyter-Presentation.ipynb --to html"
   ]
  },
  {
   "cell_type": "markdown",
   "id": "d0b8c5c2",
   "metadata": {
    "pycharm": {
     "name": "#%% md\n"
    },
    "slideshow": {
     "slide_type": "slide"
    },
    "tags": []
   },
   "source": [
    "## To LaTeX\n",
    "I could generate the LaTeX, but I had trouble actually running TeX on it to produce a PDF"
   ]
  },
  {
   "cell_type": "raw",
   "id": "5592f5ba",
   "metadata": {
    "pycharm": {
     "name": "#%% raw\n"
    },
    "slideshow": {
     "slide_type": "fragment"
    },
    "tags": []
   },
   "source": [
    "jupyter nbconvert Jupyter-Presentation.ipynb --to latex"
   ]
  },
  {
   "cell_type": "markdown",
   "id": "450d8cb9",
   "metadata": {
    "pycharm": {
     "name": "#%% md\n"
    },
    "slideshow": {
     "slide_type": "slide"
    },
    "tags": []
   },
   "source": [
    "## To PDF\n",
    "Same here.  The backend of this is from notebook to LaTeX to PDF, so not surprising I couldn't get this to work."
   ]
  },
  {
   "cell_type": "raw",
   "id": "ae6ff448",
   "metadata": {
    "pycharm": {
     "name": "#%% raw\n"
    },
    "slideshow": {
     "slide_type": "fragment"
    },
    "tags": []
   },
   "source": [
    "jupyter nbconvert Jupyter-Presentation.ipynb --to pdf"
   ]
  },
  {
   "cell_type": "markdown",
   "id": "2a51bc7a",
   "metadata": {
    "pycharm": {
     "name": "#%% md\n"
    },
    "slideshow": {
     "slide_type": "fragment"
    },
    "tags": []
   },
   "source": [
    "The complete set of `nbconvert` output types is 'asciidoc', 'custom', 'html', 'latex', 'markdown', 'notebook', 'pdf', 'python', 'rst', 'script', 'slides', and 'webpdf'."
   ]
  },
  {
   "cell_type": "markdown",
   "id": "afb6eb58",
   "metadata": {
    "pycharm": {
     "name": "#%% md\n"
    },
    "slideshow": {
     "slide_type": "slide"
    },
    "tags": []
   },
   "source": [
    "# `ipywidgets`"
   ]
  },
  {
   "cell_type": "code",
   "execution_count": null,
   "id": "4e3d4c71-3eeb-4ea3-98ba-490dc6428b14",
   "metadata": {
    "pycharm": {
     "name": "#%% md\n"
    },
    "slideshow": {
     "slide_type": "skip"
    },
    "tags": []
   },
   "outputs": [],
   "source": [
    "import matplotlib.pyplot as plt\n",
    "import numpy as np\n",
    "import ipywidgets as widgets"
   ]
  },
  {
   "cell_type": "code",
   "execution_count": null,
   "id": "c57649f7-a1af-4002-96f4-6c3d65b19e42",
   "metadata": {
    "slideshow": {
     "slide_type": "skip"
    },
    "tags": []
   },
   "outputs": [],
   "source": [
    "my_int_slider = widgets.IntSlider(\n",
    "    value=7,\n",
    "    min=0,\n",
    "    max=10,\n",
    "    step=1,\n",
    "    description='Test:',\n",
    "    disabled=False,\n",
    "    continuous_update=True,\n",
    "    orientation='horizontal',\n",
    "    readout=True,\n",
    "    readout_format='d'\n",
    ")\n",
    "display(my_int_slider)"
   ]
  },
  {
   "cell_type": "code",
   "execution_count": null,
   "id": "e75de04b-550d-4236-ba75-7aa034b6966a",
   "metadata": {
    "slideshow": {
     "slide_type": "skip"
    },
    "tags": []
   },
   "outputs": [],
   "source": [
    "display(my_int_slider)"
   ]
  },
  {
   "cell_type": "code",
   "execution_count": null,
   "id": "3b450388-1f32-4415-bac8-d358ddc9bf6d",
   "metadata": {
    "slideshow": {
     "slide_type": "skip"
    },
    "tags": []
   },
   "outputs": [],
   "source": [
    "my_text_value = widgets.BoundedIntText(\n",
    "    value=7,\n",
    "    min=0,\n",
    "    max=10,\n",
    "    step=1,\n",
    "    description='Text:',\n",
    "    disabled=False\n",
    ")\n",
    "display(my_text_value)\n",
    "link = widgets.jslink((my_int_slider, 'value'), (my_text_value, 'value'))"
   ]
  },
  {
   "cell_type": "code",
   "execution_count": null,
   "id": "70b64284-9793-4430-8f87-b30468828432",
   "metadata": {
    "slideshow": {
     "slide_type": "skip"
    },
    "tags": []
   },
   "outputs": [],
   "source": [
    "button = widgets.Button(\n",
    "    description='Click me',\n",
    "    disabled=False,\n",
    "    button_style='warning', # 'success', 'info', 'warning', 'danger' or ''\n",
    "    tooltip='Click me',\n",
    ")\n",
    "\n",
    "def on_button_clicked(b):\n",
    "    my_int_slider.__setattr__('value', 9)\n",
    "\n",
    "button.on_click(on_button_clicked)\n",
    "button"
   ]
  },
  {
   "cell_type": "code",
   "execution_count": null,
   "id": "301273b4-c373-4888-9cc9-13a07851d850",
   "metadata": {
    "slideshow": {
     "slide_type": "slide"
    },
    "tags": []
   },
   "outputs": [],
   "source": [
    "%matplotlib notebook\n",
    "import numpy as np\n",
    "import matplotlib.pyplot as plt\n",
    "import mpl_interactions.ipyplot as iplt\n",
    "\n",
    "x = np.linspace(0, 2 * np.pi, 1000)\n",
    "fig = plt.figure()\n",
    "ax = fig.add_subplot(1, 1, 1)\n",
    "\n",
    "def f(x, w):\n",
    "    return np.sin(w * x)\n",
    "\n",
    "controls = iplt.plot(x, f, w=(1, 10))\n"
   ]
  },
  {
   "cell_type": "markdown",
   "id": "5029d190-5363-4fc6-b0b8-ef7551e8854e",
   "metadata": {
    "slideshow": {
     "slide_type": "slide"
    },
    "tags": []
   },
   "source": [
    "There are [many, many, widgets](https://ipywidgets.readthedocs.io/en/stable/examples/Widget%20List.html) which you can stack, arrange, connect, and use to build exactly the UI you want."
   ]
  },
  {
   "cell_type": "markdown",
   "id": "55a5da5b",
   "metadata": {
    "pycharm": {
     "name": "#%% md\n"
    },
    "slideshow": {
     "slide_type": "slide"
    },
    "tags": []
   },
   "source": [
    "Some resources:\n",
    "* [The ipywidgets documentation](https://ipywidgets.readthedocs.io/en/latest/)\n",
    "* A [simple YouTube video](https://www.youtube.com/watch?v=wb6k_T4rKBQ) showing them in action\n",
    "* A [deeper YouTube video](https://www.youtube.com/watch?v=f0WmLo8AVxo)\n",
    "* A YouTube video about [Dashboarding with Python Widgets](https://www.youtube.com/watch?v=SDy7aBahFuQ)"
   ]
  },
  {
   "cell_type": "markdown",
   "id": "de6b0764",
   "metadata": {
    "incorrectly_encoded_metadata": "jp-MarkdownHeadingCollapsed=true",
    "pycharm": {
     "name": "#%% md\n"
    },
    "slideshow": {
     "slide_type": "slide"
    },
    "tags": []
   },
   "source": [
    "# `jupytext`"
   ]
  },
  {
   "cell_type": "markdown",
   "id": "9ec99efb",
   "metadata": {
    "pycharm": {
     "name": "#%% md\n"
    },
    "slideshow": {
     "slide_type": "slide"
    },
    "tags": []
   },
   "source": [
    "## Some things are better in an IDE or external editor\n",
    "* Look at this notebook in PyCharm\n",
    "* Look at this notebook in VS Code\n",
    "\n",
    "Some editors will directly open notebooks, but if that's not your favorite, or if you prefer a different mechanism you can use `jupytext`.  This is how you do it manually:"
   ]
  },
  {
   "cell_type": "code",
   "execution_count": null,
   "id": "07824d50-76c2-4d32-8fb5-2dd9cbea1d12",
   "metadata": {
    "pycharm": {
     "name": "#%%\n"
    },
    "slideshow": {
     "slide_type": "slide"
    },
    "tags": []
   },
   "outputs": [],
   "source": [
    "%%bash\n",
    "jupytext --to md Jupyter-Presentation.ipynb\n",
    "jupytext --to ipynb --update Jupyter-Presentation.md"
   ]
  },
  {
   "cell_type": "markdown",
   "id": "34a7f3bc-6b4d-48b8-932a-65a9f31e97c9",
   "metadata": {
    "pycharm": {
     "name": "#%% md\n"
    },
    "slideshow": {
     "slide_type": "slide"
    },
    "tags": []
   },
   "source": [
    "But `jupytext` is automatic.  In the normal case, use the \"Pair with Markdown\" (for example) command, and then when you make a change in the Markdown version of the notebook, it's quickly reflected in the `ipynb` version and vice versa.  This is the main reason it's better than `nbconvert`.\n",
    "\n",
    "Why would you use `jupytext`: some things are just better in your editor, diffing of text is easier than diffing of json, and instant automatic conversion is nifty.  Those are the prime reasons for me, anyway."
   ]
  },
  {
   "cell_type": "markdown",
   "id": "83e77aec",
   "metadata": {
    "pycharm": {
     "name": "#%% md\n"
    },
    "slideshow": {
     "slide_type": "slide"
    },
    "tags": []
   },
   "source": [
    "# `nbviewer`\n",
    "Built-in to GitHub and other source repositories, but usable separately as well.  Here's an example on GitHub: [My `re` presentation](https://github.com/wolf/re-presentation/blob/main/%60re%60%20Presentation.ipynb) (open in Firefox to avoid scrollbar bug)\n",
    "\n",
    "`nbviewer` provides a read-only (non-executing) view on to an existing notebook that has been saved with output cells so you can see everything.\n",
    "\n",
    "See [`nbviewer`'s repo](https://github.com/jupyter/nbviewer)."
   ]
  },
  {
   "cell_type": "markdown",
   "id": "eb41aad8",
   "metadata": {
    "pycharm": {
     "name": "#%% md\n"
    },
    "slideshow": {
     "slide_type": "slide"
    },
    "tags": []
   },
   "source": [
    "# SQL"
   ]
  },
  {
   "cell_type": "code",
   "execution_count": null,
   "id": "edca7f0b-4fb9-4daa-bf91-c3fa3e8ca783",
   "metadata": {
    "pycharm": {
     "name": "#%%\n"
    },
    "slideshow": {
     "slide_type": "slide"
    },
    "tags": []
   },
   "outputs": [],
   "source": [
    "import sqlalchemy\n",
    "engine = sqlalchemy.create_engine('postgresql://wolf:@localhost/usda')\n",
    "\n",
    "# Yes, I'm bad.  I have no password on my local\n",
    "# PostgreSQL database"
   ]
  },
  {
   "cell_type": "code",
   "execution_count": null,
   "id": "dadcef48-9cda-4c4f-b99c-be5ce641d54c",
   "metadata": {
    "pycharm": {
     "name": "#%%\n"
    },
    "slideshow": {
     "slide_type": "fragment"
    },
    "tags": []
   },
   "outputs": [],
   "source": [
    "%load_ext sql\n",
    "%sql postgresql://wolf:@localhost/usda"
   ]
  },
  {
   "cell_type": "code",
   "execution_count": null,
   "id": "cf9885c7-f070-4d3f-846a-3577daff5eaa",
   "metadata": {
    "pycharm": {
     "name": "#%%\n"
    },
    "slideshow": {
     "slide_type": "slide"
    },
    "tags": []
   },
   "outputs": [],
   "source": [
    "%%sql\n",
    "\n",
    "SELECT * FROM fd_group\n",
    "\n",
    "-- note this is _just_ a result, not otherwise\n",
    "-- saved"
   ]
  },
  {
   "cell_type": "code",
   "execution_count": null,
   "id": "955285ca-e25a-42fd-abeb-4bfec35cc9c6",
   "metadata": {
    "pycharm": {
     "name": "#%%\n"
    },
    "slideshow": {
     "slide_type": "slide"
    },
    "tags": []
   },
   "outputs": [],
   "source": [
    "# This time, let's save it\n",
    "\n",
    "fd_groups_simple = %sql SELECT * FROM fd_group\n",
    "fd_groups_simple"
   ]
  },
  {
   "cell_type": "code",
   "execution_count": null,
   "id": "c5cc0b44-d598-4d26-ab7b-531e6123fe3a",
   "metadata": {
    "pycharm": {
     "name": "#%%\n"
    },
    "slideshow": {
     "slide_type": "subslide"
    },
    "tags": []
   },
   "outputs": [],
   "source": [
    "type(fd_groups_simple)"
   ]
  },
  {
   "cell_type": "markdown",
   "id": "90205b99",
   "metadata": {
    "pycharm": {
     "name": "#%% md\n"
    },
    "slideshow": {
     "slide_type": "slide"
    },
    "tags": []
   },
   "source": [
    "## SQL in Pandas"
   ]
  },
  {
   "cell_type": "code",
   "execution_count": null,
   "id": "40408e5a-84a4-4eb5-8fc9-dd2933ea56ef",
   "metadata": {
    "pycharm": {
     "name": "#%%\n"
    },
    "slideshow": {
     "slide_type": "slide"
    },
    "tags": []
   },
   "outputs": [],
   "source": [
    "# Let's make a new dataframe\n",
    "\n",
    "fd_group = pandas.read_sql('SELECT * FROM fd_group', engine)\n",
    "fd_group"
   ]
  },
  {
   "cell_type": "code",
   "execution_count": null,
   "id": "131369e1-2e13-4a01-a651-59c7cfc299a7",
   "metadata": {
    "pycharm": {
     "name": "#%%\n"
    },
    "slideshow": {
     "slide_type": "slide"
    },
    "tags": []
   },
   "outputs": [],
   "source": [
    "# Let's make a new dataframe the easy way\n",
    "# and time how long it takes to read those rows\n",
    "\n",
    "%timeit pandas.read_sql_table('nut_data', engine)\n",
    "nut_data = pandas.read_sql_table('nut_data', engine)\n",
    "nut_data"
   ]
  },
  {
   "cell_type": "code",
   "execution_count": null,
   "id": "149f1e44-5df2-46f8-aa65-4fb39907f37a",
   "metadata": {
    "pycharm": {
     "name": "#%%\n"
    },
    "slideshow": {
     "slide_type": "subslide"
    },
    "tags": []
   },
   "outputs": [],
   "source": [
    "type(nut_data)"
   ]
  },
  {
   "cell_type": "markdown",
   "id": "63149219",
   "metadata": {
    "pycharm": {
     "name": "#%% md\n"
    },
    "slideshow": {
     "slide_type": "slide"
    },
    "tags": []
   },
   "source": [
    "# `nbdev`\n",
    "* Exploratory programming\n",
    "* Build full packages\n",
    "* Publish them to PyPI, et al\n",
    "* Create beautiful documentation (Quarto-based), automatically published\n",
    "* Integrated tests\n",
    "* Automatic CI (continuous integration -- running the tests and getting things published with every commit)\n",
    "\n",
    "Helpful to think of `nbdev` as a _dialect_ of Python according to [this YouTube video](https://www.youtube.com/watch?v=l7zS8Ld4_iA).  I struggled with what to show you for `nbdev` as it's a complete literate programming _system_ built on top of Jupyter notebooks, but you have to agree with their choices.  It's very powerful, and very opinionated."
   ]
  },
  {
   "cell_type": "markdown",
   "id": "9a6773b3",
   "metadata": {
    "pycharm": {
     "name": "#%% md\n"
    },
    "slideshow": {
     "slide_type": "fragment"
    },
    "tags": []
   },
   "source": [
    "[Further details](https://nbdev.fast.ai) and a [tutorial here](https://nbdev.fast.ai/tutorial.html) and [YouTube video introduction here](https://www.youtube.com/watch?v=l7zS8Ld4_iA) (I preferred watching this video at 1.25x)."
   ]
  },
  {
   "cell_type": "markdown",
   "id": "4cb01c2c",
   "metadata": {
    "pycharm": {
     "name": "#%% md\n"
    },
    "slideshow": {
     "slide_type": "slide"
    },
    "tags": []
   },
   "source": [
    "## Literate programming\n",
    "Look at [an example of literate programming](https://github.com/fastai/execnb/blob/master/nbs/01_nbio.ipynb) that is part of `nbdev` itself."
   ]
  },
  {
   "cell_type": "markdown",
   "id": "3b75be2c-fb1d-42dd-8f58-054414645788",
   "metadata": {
    "pycharm": {
     "name": "#%% md\n"
    },
    "slideshow": {
     "slide_type": "slide"
    },
    "tags": []
   },
   "source": [
    "## Creating books\n",
    "With a little bit of configuration and appropriate use of metadata, you can turn your notebook into an actual book or article."
   ]
  },
  {
   "cell_type": "markdown",
   "id": "6ed312f5-e3aa-450a-97e6-bd025c6eb208",
   "metadata": {
    "pycharm": {
     "name": "#%% md\n"
    },
    "slideshow": {
     "slide_type": "fragment"
    },
    "tags": []
   },
   "source": [
    "See also [Jupyter Book](https://jupyterbook.org/en/stable/intro.html) for an alternative _not_ using `nbdev`.  I actually prefer Jupyter Book over `nbdev`.  Jupyter Book is built on [Quarto](https://quarto.org) which can also make books."
   ]
  },
  {
   "cell_type": "markdown",
   "id": "3675d3c9-16e3-42f1-820f-e05c44dedc79",
   "metadata": {
    "pycharm": {
     "name": "#%% md\n"
    },
    "slideshow": {
     "slide_type": "fragment"
    },
    "tags": []
   },
   "source": [
    "Many output formats are available.  Most used among them is HTML for publishing directly on the web.  Most interesting to me is ePub.  Jupyter Book will publish directly to GitHub Pages, netlify or ReadTheDocs."
   ]
  },
  {
   "cell_type": "markdown",
   "id": "cb970512",
   "metadata": {
    "pycharm": {
     "name": "#%% md\n"
    },
    "slideshow": {
     "slide_type": "slide"
    },
    "tags": []
   },
   "source": [
    "# How do you install and run Jupyter?"
   ]
  },
  {
   "cell_type": "markdown",
   "id": "47387f02",
   "metadata": {
    "pycharm": {
     "name": "#%% md\n"
    },
    "slideshow": {
     "slide_type": "subslide"
    },
    "tags": []
   },
   "source": [
    "## Installing into a local virtual environment\n",
    "For this demonstration, I used `pyenv` to build my virtual environments; but it would be similar if I used `venv` or `virtualenv`.  This is what I did:"
   ]
  },
  {
   "cell_type": "code",
   "execution_count": null,
   "id": "2a960454",
   "metadata": {
    "pycharm": {
     "name": "#%%\n"
    },
    "raw_mimetype": "script",
    "slideshow": {
     "slide_type": "slide"
    },
    "tags": []
   },
   "outputs": [],
   "source": [
    "%%bash\n",
    "mkdir Notebooks\n",
    "cd Notebooks"
   ]
  },
  {
   "cell_type": "code",
   "execution_count": null,
   "id": "b3c45848",
   "metadata": {
    "pycharm": {
     "name": "#%%\n"
    },
    "raw_mimetype": "script",
    "slideshow": {
     "slide_type": "fragment"
    },
    "tags": []
   },
   "outputs": [],
   "source": [
    "# ...some git stuff..."
   ]
  },
  {
   "cell_type": "code",
   "execution_count": null,
   "id": "5ce31008",
   "metadata": {
    "pycharm": {
     "name": "#%%\n"
    },
    "raw_mimetype": "script",
    "slideshow": {
     "slide_type": "fragment"
    },
    "tags": []
   },
   "outputs": [],
   "source": [
    "%%bash\n",
    "# make a new globally available virtual environment\n",
    "pyenv virtualenv 3.10.5 jupyter-notebooks\n",
    "# activate this environment whenever you are _in_ it, in bash\n",
    "pyenv local jupyter-notebooks"
   ]
  },
  {
   "cell_type": "code",
   "execution_count": null,
   "id": "67ae3ace",
   "metadata": {
    "pycharm": {
     "name": "#%%\n"
    },
    "raw_mimetype": "script",
    "slideshow": {
     "slide_type": "fragment"
    },
    "tags": []
   },
   "outputs": [],
   "source": [
    "%%bash\n",
    "# Now, from that directory with the virtual environment active\n",
    "\n",
    "pip install --upgrade pip setuptools wheel jupyter \\\n",
    "    ipython[all] nbdev jupyterlab-git ipywidgets \\\n",
    "    jupytext ipython-sql psycopg2\n",
    "\n",
    "# ...etc...\n",
    "\n",
    "# pyscopg2 because I'm using PostgreSQL, you'll install\n",
    "# whatever is appropriate for your database"
   ]
  },
  {
   "cell_type": "markdown",
   "id": "111306ff",
   "metadata": {
    "pycharm": {
     "name": "#%% md\n"
    },
    "slideshow": {
     "slide_type": "slide"
    },
    "tags": []
   },
   "source": [
    "## Installing globally (no demo)\n",
    "Not recommended.  Do everything above _except_ the `pyenv` steps.  This will install Jupyter into your global Python.  But take my advice: in Python, you should **always** use a virtual environment, and not just for Jupyter; for **everything**."
   ]
  },
  {
   "cell_type": "markdown",
   "id": "a3d49a2d",
   "metadata": {
    "pycharm": {
     "name": "#%% md\n"
    },
    "slideshow": {
     "slide_type": "slide"
    },
    "tags": []
   },
   "source": [
    "## Installing with Anaconda (no demo)\n",
    "Nothing to do.  Jupyter Notebooks install automatically as a part of Anaconda.  I do not have Anaconda installed on this machine, but it's the data-scientist's Python of choice because it comes with everything a data-scientist needs.  That's a _lot_ of stuff.  An Anaconda installation is large."
   ]
  },
  {
   "cell_type": "markdown",
   "id": "8bbb8a54",
   "metadata": {
    "pycharm": {
     "name": "#%% md\n"
    },
    "slideshow": {
     "slide_type": "slide"
    },
    "tags": []
   },
   "source": [
    "## Using through Docker (no demo)\n",
    "You just need the right image.  Here's a [tutorial on installing Docker and running Jupyter](https://towardsdatascience.com/how-to-run-jupyter-notebook-on-docker-7c9748ed209f).  At this moment I do not have Docker installed on this machine because when I **did** have it installed, it was eating up too much CPU while doing nothing.  So I uninstalled it."
   ]
  },
  {
   "cell_type": "markdown",
   "id": "4fca4d5f",
   "metadata": {
    "pycharm": {
     "name": "#%% md\n"
    },
    "slideshow": {
     "slide_type": "slide"
    },
    "tags": []
   },
   "source": [
    "## Installing additional kernels for other languages"
   ]
  },
  {
   "cell_type": "code",
   "execution_count": null,
   "id": "b089751a",
   "metadata": {
    "pycharm": {
     "name": "#%%\n"
    },
    "slideshow": {
     "slide_type": "fragment"
    },
    "tags": []
   },
   "outputs": [],
   "source": [
    "%%bash\n",
    "pip install bash_kernel\n",
    "python -m bash_kernel.install"
   ]
  },
  {
   "cell_type": "markdown",
   "id": "b673b23a",
   "metadata": {
    "pycharm": {
     "name": "#%% md\n"
    },
    "slideshow": {
     "slide_type": "fragment"
    },
    "tags": []
   },
   "source": [
    "Each language has its own scheme for installation, but in general, they are all this easy (except, in my experience, for Perl).  Note that you do **not** need kernels installed for languages you invoke through \"magics\", e.g., `%%bash`, `%%javascript`, `%%perl`.  These work because you have e.g., `bash`, `node`, and `perl`, respectively, installed natively on your machine."
   ]
  },
  {
   "cell_type": "markdown",
   "id": "66f9ffc2",
   "metadata": {
    "pycharm": {
     "name": "#%% md\n"
    },
    "slideshow": {
     "slide_type": "slide"
    },
    "tags": []
   },
   "source": [
    "## Running Jupyter\n",
    "Jupyter has two parts, the client (running in your web browser) and the server (running in your terminal).  I like to run Jupyter in a `tmux` session, because hell, I like to do everything in a `tmux` session.  Given the very first setup I described using `pyenv` virtual environments, here is what I do:\n",
    "* `cd` into the directory I made that will contain the notebook, and is set to automatically start up the virtual environment\n",
    "* `tmux new-session -s jupyter`\n",
    "* I typically split my `tmux` session into two panes so I can run the server in one, and do `git` commands in the other\n",
    "* In one of the panes: `jupyter-lab`, this automatically opens the lab in a new window of my default browser, or a new tab of the last window I touched"
   ]
  },
  {
   "cell_type": "markdown",
   "id": "e4c05487-65ce-4eae-a12b-872d85826b3d",
   "metadata": {
    "pycharm": {
     "name": "#%% md\n"
    },
    "slideshow": {
     "slide_type": "slide"
    },
    "tags": []
   },
   "source": [
    "# What did I talk about / questions / more live demos --- what would you like to see?\n",
    "* What a Jupyter notebook _is_\n",
    "* Cells are code, Markdown, or raw\n",
    "    * Code cells can be executed\n",
    "    * Magics\n",
    "* `pandas` and `matplotlib`\n",
    "* `nbconvert`\n",
    "* Building GUIs with `ipywidgets`\n",
    "* `jupytext`\n",
    "* `nbviewer`\n",
    "* SQL\n",
    "* `nbdev`\n",
    "* How to install and run Jupyter"
   ]
  }
 ],
 "metadata": {
  "author": "Wolf",
  "jupytext": {
   "formats": "ipynb,md",
   "notebook_metadata_filter": "author"
  },
  "kernelspec": {
   "display_name": "Python 3",
   "language": "python",
   "name": "python3"
  },
  "language_info": {
   "codemirror_mode": {
    "name": "ipython",
    "version": 3
   },
   "file_extension": ".py",
   "mimetype": "text/x-python",
   "name": "python",
   "nbconvert_exporter": "python",
   "pygments_lexer": "ipython3",
   "version": "3.10.5"
  }
 },
 "nbformat": 4,
 "nbformat_minor": 5
}
